{
  "nbformat": 4,
  "nbformat_minor": 0,
  "metadata": {
    "colab": {
      "provenance": [],
      "authorship_tag": "ABX9TyOdMX99OkZvng3C5jjYkenO",
      "include_colab_link": true
    },
    "kernelspec": {
      "name": "python3",
      "display_name": "Python 3"
    },
    "language_info": {
      "name": "python"
    }
  },
  "cells": [
    {
      "cell_type": "markdown",
      "metadata": {
        "id": "view-in-github",
        "colab_type": "text"
      },
      "source": [
        "<a href=\"https://colab.research.google.com/github/Shradha1304/Mini-projects/blob/main/proof_of_concept.ipynb\" target=\"_parent\"><img src=\"https://colab.research.google.com/assets/colab-badge.svg\" alt=\"Open In Colab\"/></a>"
      ]
    },
    {
      "cell_type": "code",
      "execution_count": 11,
      "metadata": {
        "id": "bMKUZlD7arla"
      },
      "outputs": [],
      "source": [
        "import networkx as nx\n",
        "import matplotlib.pyplot as plt\n",
        "import numpy as np\n"
      ]
    },
    {
      "cell_type": "code",
      "source": [
        "G=nx.DiGraph()\n",
        "\n",
        "G.add_node(1,pos=(1,1))\n",
        "\n",
        "G.add_node(2,pos=(2,2))\n",
        "G.add_edge(1,2)"
      ],
      "metadata": {
        "id": "54xIxSzQmsHw"
      },
      "execution_count": 12,
      "outputs": []
    },
    {
      "cell_type": "code",
      "source": [
        "G.add_node(3,pos=(1,1.5))\n",
        "G.add_node(4,pos=(1.5,2))\n",
        "G.remove_edge(1,2)\n",
        "G.add_edge(1,3)\n",
        "G.add_edge(3,4)\n",
        "G.add_edge(4,2)\n",
        "pos=nx.get_node_attributes(G,'pos')\n",
        "#nx.draw(G,pos,nodelist=[1,2],arrows=[False,True])"
      ],
      "metadata": {
        "id": "x2s-vtiEazid"
      },
      "execution_count": 13,
      "outputs": []
    },
    {
      "cell_type": "markdown",
      "source": [
        "Plotting graph without the dummy nodes"
      ],
      "metadata": {
        "id": "e4mROr58hAcw"
      }
    },
    {
      "cell_type": "code",
      "source": [
        "nx.draw_networkx_nodes(G,pos,nodelist=[1,2])\n",
        "nx.draw_networkx_edges(G,pos,edgelist=[(1,3),(3,4)],arrows=False,node_size=0)\n",
        "nx.draw_networkx_edges(G,pos,edgelist=[(4,2)],arrows=True,node_size=[0,300],nodelist=[4,2])"
      ],
      "metadata": {
        "colab": {
          "base_uri": "https://localhost:8080/",
          "height": 266
        },
        "id": "PuXZUJgjg-d2",
        "outputId": "63b51e43-78cb-4bdf-fb83-82c7c0245a17"
      },
      "execution_count": 10,
      "outputs": [
        {
          "output_type": "execute_result",
          "data": {
            "text/plain": [
              "[<matplotlib.patches.FancyArrowPatch at 0x7f7821a9da00>]"
            ]
          },
          "metadata": {},
          "execution_count": 10
        },
        {
          "output_type": "display_data",
          "data": {
            "text/plain": [
              "<Figure size 432x288 with 1 Axes>"
            ],
            "image/png": "[encoded data removed]"
          },
          "metadata": {}
        }
      ]
    },
    {
      "cell_type": "markdown",
      "source": [
        "Plotting graph with dummy nodes"
      ],
      "metadata": {
        "id": "-cfe8X6vhJ9t"
      }
    },
    {
      "cell_type": "code",
      "source": [
        "nx.draw_networkx_nodes(G,pos,nodelist=[1,2,3,4])\n",
        "nx.draw_networkx_edges(G,pos,edgelist=[(1,3),(3,4),(4,2)],arrows=False)"
      ],
      "metadata": {
        "colab": {
          "base_uri": "https://localhost:8080/",
          "height": 266
        },
        "id": "LacyYxwngb5L",
        "outputId": "efc32606-4006-457a-9f74-30b5f707c645"
      },
      "execution_count": 8,
      "outputs": [
        {
          "output_type": "execute_result",
          "data": {
            "text/plain": [
              "<matplotlib.collections.LineCollection at 0x7f7821ac4a30>"
            ]
          },
          "metadata": {},
          "execution_count": 8
        },
        {
          "output_type": "display_data",
          "data": {
            "text/plain": [
              "<Figure size 432x288 with 1 Axes>"
            ],
            "image/png": "[encoded data removed]"
          },
          "metadata": {}
        }
      ]
    }
  ]
}